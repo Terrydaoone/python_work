{
 "cells": [
  {
   "cell_type": "code",
   "execution_count": null,
   "metadata": {},
   "outputs": [],
   "source": [
    "#-*- coding:utf-8 -*-\n",
    "\n",
    "#批量修改ccproxy.ini文件中的各个端口号\n",
    "import pandas as pd\n",
    "import string\n",
    "import re\n",
    "import sys\n",
    "\n",
    "%pdb on\n",
    "filename = 'D:/python_work/CCProxy.ini'\n",
    "filehome = u'E:/python_work/modify_CCproxyini/CCProxy907.csv'\n",
    "#unifile = unicode(filehome, \"utf-8\")\n",
    "\n",
    "wfile = r'E:\\python_work\\CCProxy908.csv'\n",
    "\n",
    "initxt = pd.read_csv(filehome, header = None)\n",
    "\n",
    "print(format(initxt))\n",
    "#print(rows.shape[0])\n",
    "#print(frows.iloc[:,0])\n",
    "#chs = initxt.iloc[40][0].split('=')[1]\n",
    "#print(chs)\n",
    "#print(type(int(chs)))\n",
    "#chs2 = int(chs) + 1\n",
    "\n",
    "#newchs = re.sub(\"\\d+\", str(chs2), initxt.iloc[40][0] )\n",
    "#print(newchs)\n",
    "#print(format(frows))\n",
    "\n",
    "#这是配置文件中，需要修改的端口所在的行的行号\n",
    "mylist = [41,42,43,44,45,46,47,59,60,86,92,98,104,110]\n",
    "for j in mylist:\n",
    "    print(initxt.iloc[j][0])\n",
    "\n",
    "\n",
    "\n",
    "for i in mylist:\n",
    "    print(initxt.iloc[i][0])\n",
    "    chs = initxt.iloc[i][0].split('=')[1]\n",
    "    if chs.isdigit():\n",
    "        chs2 = int(chs) + 1\n",
    "        chs3 = \"=\" + str(chs2)\n",
    "        newchs = re.sub(\"=\\d+\", chs3, initxt.iloc[i][0] )\n",
    "    else:\n",
    "        continue\n",
    "    initxt.iloc[i][0] = newchs\n",
    "\n",
    "print(format(initxt))\n",
    "\n",
    "#iamw = pd.ExcelWriter(wfile)\n",
    "#注意，使用to_csv写文件时，不需要ExcelWriter,直接写就行\n",
    "initxt.to_csv(wfile, index = 0, header = 0)   # 按指定行进行修改时，一定要对应好行号，这里的header = 0是个关键。\n",
    "#iamwriter.save()\n",
    "print(format(initxt))\n"
   ]
  }
 ],
 "metadata": {
  "kernelspec": {
   "display_name": "Python 3",
   "language": "python",
   "name": "python3"
  },
  "language_info": {
   "codemirror_mode": {
    "name": "ipython",
    "version": 3
   },
   "file_extension": ".py",
   "mimetype": "text/x-python",
   "name": "python",
   "nbconvert_exporter": "python",
   "pygments_lexer": "ipython3",
   "version": "3.7.0"
  }
 },
 "nbformat": 4,
 "nbformat_minor": 2
}
